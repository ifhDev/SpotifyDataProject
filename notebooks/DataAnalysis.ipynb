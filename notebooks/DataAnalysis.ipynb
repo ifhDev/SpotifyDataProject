{
 "cells": [
  {
   "cell_type": "code",
   "execution_count": null,
   "metadata": {},
   "outputs": [],
   "source": [
    "import pandas as pd\n",
    "import numpy as np\n",
    "import matplotlib.pyplot as plt\n",
    "import seaborn as sns\n",
    "import warnings\n",
    "import os\n",
    "from imblearn.pipeline import Pipeline as Pip\n",
    "from sklearn.pipeline import Pipeline\n",
    "from sklearn.preprocessing import StandardScaler, OneHotEncoder, PolynomialFeatures\n",
    "from sklearn.compose import ColumnTransformer\n",
    "from sklearn.ensemble import RandomForestClassifier\n",
    "from sklearn.model_selection import GridSearchCV, train_test_split\n",
    "from sklearn.metrics import mean_squared_error, r2_score, accuracy_score, precision_score, recall_score, confusion_matrix, ConfusionMatrixDisplay\n",
    "from sklearn.linear_model import LinearRegression\n",
    "from scripts.spotify_cleaner import clean_data\n",
    "from scripts.spotify_feature_engineering import create_binary_classification, GENRE_PRIORITY, assign_meta_genres, remove_meta_duplicates, engineer_features\n",
    "\n",
    "warnings.simplefilter(action='ignore', category=FutureWarning)\n",
    "sns.set_style('whitegrid')\n",
    "\n",
    "# importing dataset\n",
    "if 'data' in os.listdir() and 'dataset.csv' in os.listdir('data'):\n",
    "    print('Dataset exists, skipping import.')\n",
    "    pass\n",
    "else:\n",
    "    print('No dataset found. Importing dataset.')\n",
    "    %run ./scripts/import_kaggle_dataset.py"
   ]
  },
  {
   "cell_type": "markdown",
   "metadata": {},
   "source": [
    "# Danceability Prediction & Music Feature Analysis\n",
    "\n",
    "## Project Overview\n",
    "\n",
    "This project explores Spotify song datao analyse what makes a song danceable and build a machine learning modelo predict danceability. \n",
    "\n",
    "Using a snapshot datasetrom October 2022, we investigate:\n",
    "- How various audio features (e.g., tempo, valence, energy) impact danceability.\n",
    "- Whether meta-genres and mood scores influence danceability.\n",
    "- The performance of different regression and classification models in predicting danceability.\n",
    "\n",
    "## Objectives\n",
    "\n",
    "1. **Perform Exploratory Data Analysis (EDA)**  \n",
    "   - Identify trends & correlations in song characteristics.  \n",
    "   - Examine the impact of engineered features (e.g., tempo category, beat density).  \n",
    "   - Visualize how meta-genres and mood scores relate to danceability.  \n",
    "\n",
    "2. **Engineer & Select Features for Modelling**  \n",
    "   - Create new features based on genre, rhythm, and energy.  \n",
    "   - Evaluate which features contribute most to danceability predictions.  \n",
    "\n",
    "3. **Build Machine Learning Models**  \n",
    "   - Start with Linear Regression as a baseline.  \n",
    "   - Improve predictions using Random Forest Classification.  \n",
    "   - Tune hyperparameters to optimise performance (GridSearchCV).  \n",
    "\n",
    "4. **Evaluate Model Performance & Feature Importance**  \n",
    "   - Measure accuracy, precision, recall of models.  \n",
    "   - Use feature importance analysis to understand what truly makes a song danceable.  \n",
    "\n",
    "---\n",
    "\n",
    "## **Dataset Overview**\n",
    "The dataset consists of Spotify audio features for a large number of songs. Each song has:\n",
    "- *Numerical features* (e.g., `tempo`, `valence`, `energy`, `loudness`).\n",
    "- *Categorical features* (`track_genre`, later converted into `meta_genre`).\n",
    "- *Engineered features* (`beat_density`, `mood_score`, etc.).\n",
    "\n",
    "### **Sample Features**\n",
    "| Feature | Description |\n",
    "|---------|------------|\n",
    "| `danceability` | Float (0-1) indicating danceability |\n",
    "| `tempo` | Beats per minute (BPM) |\n",
    "| `energy` | Song intensity (0-1) |\n",
    "| `valence` | Positivity of the song (0-1) |\n",
    "| `speechiness` | Amount of spoken words in the track |\n",
    "| `instrumentalness` | Likelihood of the track being instrumental |\n",
    "| `meta_genre` | Grouped genre category (e.g., Rock, Pop, Hip-Hop) |\n",
    "| `mood_score` | Engineered feature combining valence, energy, and tempo |"
   ]
  },
  {
   "cell_type": "markdown",
   "metadata": {},
   "source": [
    "# Exploratory Data Analysis (EDA)\n",
    "\n",
    "## Dataset Overview\n",
    "\n",
    "Before building our model, we first explore the dataset to:\n",
    "- Understand the distribution of key features.\n",
    "- Identify trends and correlations that may influence danceability.\n",
    "- Evaluate the usefulness of engineered features (`mood_score`, `beat_density`, etc.).\n",
    "- Examine how meta-genres impact danceability.\n",
    "\n",
    "To begin, we clean the data and apply feature engineering to ensure a consistent dataset."
   ]
  },
  {
   "cell_type": "code",
   "execution_count": null,
   "metadata": {},
   "outputs": [],
   "source": [
    "df = pd.read_csv('data/dataset.csv', index_col=0)\n",
    "df = clean_data(df)\n",
    "\n",
    "# assign meta-genre & remove duplicates\n",
    "df = assign_meta_genres(df, GENRE_PRIORITY)\n",
    "df = remove_meta_duplicates(df, GENRE_PRIORITY)\n",
    "\n",
    "# further feature engineering\n",
    "df = engineer_features(df)\n",
    "\n",
    "# general DF information\n",
    "print(df.info())\n",
    "display(df.describe())\n",
    "df.head()"
   ]
  },
  {
   "cell_type": "markdown",
   "metadata": {},
   "source": [
    "## Feature Distributions\n",
    "\n",
    "We first visualize the distributions of key numerical features to understand their spread. This helps identify outliers and assess whether transformations are necessary.\n"
   ]
  },
  {
   "cell_type": "code",
   "execution_count": null,
   "metadata": {},
   "outputs": [],
   "source": [
    "num_features = ['danceability', 'tempo', 'energy', 'valence', 'speechiness', 'acousticness', \n",
    "                'instrumentalness', 'liveness', 'loudness', 'mood_score', 'beat_density', 'popularity']\n",
    "\n",
    "# Plot distributions\n",
    "fig, axes = plt.subplots(nrows=3, ncols=4, figsize=(16, 10))\n",
    "axes = axes.flatten()\n",
    "\n",
    "for i, feature in enumerate(num_features):\n",
    "    sns.histplot(df[feature], bins=30, kde=True, ax=axes[i])\n",
    "    axes[i].set_title(f'Distribution of {feature}')\n",
    "plt.tight_layout()\n",
    "\n",
    "plt.savefig('visuals/feature_distribution.svg')"
   ]
  },
  {
   "cell_type": "markdown",
   "metadata": {},
   "source": [
    "## Correlation Analysis\n",
    "\n",
    "To understand relationships between features, we compute a correlation matrix. This allows us to identify:\n",
    "- Which features are highly correlated.\n",
    "- Whether any features are redundant.\n",
    "- How well different features correlate with danceability."
   ]
  },
  {
   "cell_type": "code",
   "execution_count": null,
   "metadata": {},
   "outputs": [],
   "source": [
    "plt.figure(figsize=(12, 6))\n",
    "sns.heatmap(df.select_dtypes(include=['number']).corr())\n",
    "plt.title('Feature Correlations')\n",
    "plt.tight_layout()\n",
    "\n",
    "plt.savefig('visuals/full_feature_heatmap.svg')"
   ]
  },
  {
   "cell_type": "markdown",
   "metadata": {},
   "source": [
    "## Meta-Genre Analysis\n",
    "\n",
    "Next, we analyse meta-genres to see how different broad genre categories relate to danceability. This allows us to examine whether certain genres tend to produce more danceable music."
   ]
  },
  {
   "cell_type": "code",
   "execution_count": null,
   "metadata": {},
   "outputs": [],
   "source": [
    "# Group by meta-genre and compute average danceability\n",
    "genre_danceability = df.groupby('meta_genre')['danceability'].mean().sort_values()\n",
    "\n",
    "plt.figure(figsize=(12, 6))\n",
    "sns.barplot(x=genre_danceability.index, y=genre_danceability.values, palette='rocket', hue=genre_danceability.index)\n",
    "plt.xticks(rotation=45, fontsize=12)\n",
    "plt.xlabel('Meta-Genre', fontsize=16)\n",
    "plt.ylabel('Average Danceability', fontsize=16)\n",
    "plt.title('Average Danceability by Meta-Genre', fontsize=20)\n",
    "plt.savefig('visuals/Genre_danceability.svg', dpi=150, format='svg', bbox_inches='tight')"
   ]
  },
  {
   "cell_type": "markdown",
   "metadata": {},
   "source": [
    "## Insights from EDA\n",
    "\n",
    "From the above analyses, we can extract key observations:\n",
    "- Danceability tends to correlate with features like energy and valence, while acousticness and instrumentalness are negatively correlated.\n",
    "- Some meta-genres have significantly higher average danceability than others, suggesting genre is a useful feature.\n",
    "- The engineered features, such as mood score and beat density, show clear variation across songs, making them strong candidates for feature selection.\n",
    "\n",
    "With these insights, we move forward to feature engineering and model building."
   ]
  },
  {
   "cell_type": "markdown",
   "metadata": {},
   "source": [
    "# Feature Engineering\n",
    "\n",
    "## Handling Meta-Genres\n",
    "\n",
    "Spotify provides detailed genre labels, but these are often too specific (e.g., 'alternative metal' vs. 'heavy metal'). To make our analysis more effective, we grouped similar genres into meta-genres. This helps:\n",
    "- Reduce dimensionality and noise.\n",
    "- Improve interpretability for analysis and modelling.\n",
    "\n",
    "### **Meta-Genre Assignment**\n",
    "Meta-Genres were created based on market categories where possible, as Spotify is a commercial platform, and on musical history in unclear cases. Afterwards, the meta-genres were assigned using a priority mapping to ensure consistency.\n"
   ]
  },
  {
   "cell_type": "code",
   "execution_count": null,
   "metadata": {},
   "outputs": [],
   "source": [
    "df['meta_genre'].value_counts()"
   ]
  },
  {
   "cell_type": "markdown",
   "metadata": {},
   "source": [
    "The distribution of meta-genres showed that some categories were much more common than others. To ensure better representation, we adjusted duplicate removal priorities using the `GENRE_PRIORITY` dictionary. This means that any song found in multiple meta-genres is now only represented in the most 'overarching' genre, removing nuance from the set, but ideally allowing for more precise analysis of the meta genres.\n",
    "\n",
    "## Engineered Features\n",
    "\n",
    "To enhance our models, we created several new features based on tempo, rhythm, energy, and acoustic properties. Below are the most important engineered features:\n",
    "\n",
    "| Feature | Description |\n",
    "|---------|------------|\n",
    "| `tempo_category` | Binned tempo into 'slow,' 'mid,' and 'fast' |\n",
    "| `mood_score` | Composite score of valence, energy, and tempo |\n",
    "| `beat_density` | Ratio of tempo to time signature |\n",
    "| `energy_tempo_interaction` | Interaction between energy and tempo |\n",
    "| `party_factor` | Combination of valence and energy |\n",
    "| `groove_score` | Danceability weighted by instrumentalness |\n",
    "\n",
    "These features were designed to capture musical attributes beyond raw Spotify-provided data."
   ]
  },
  {
   "cell_type": "code",
   "execution_count": null,
   "metadata": {},
   "outputs": [],
   "source": [
    "df.select_dtypes(include=['number']).corr()['danceability'].sort_values(ascending=False)"
   ]
  },
  {
   "cell_type": "markdown",
   "metadata": {},
   "source": [
    "### **Feature Performance: What Worked & What Didn’t**\n",
    "After experimenting with multiple features, we evaluated their impact on danceability predictions. As the 'groove score' is a proxy for danceability by instrumentalness, it was left out of analysis.\n",
    "\n",
    "**Useful Features**:\n",
    "- *Meta-genre* → Different genres showed clear trends in danceability.\n",
    "- *Mood Score* → Captured energy-valence interactions well.\n",
    "- *Beat Density* → Helped differentiate rhythmic structures.\n",
    "\n",
    "**Less Useful Features**:\n",
    "- *Energy-Tempo Interaction* → Did not provide additional predictive power beyond individual features.\n",
    "- *Tempo Category (One-Hot Encoded)* → Only had a marginal impact on model performance.\n",
    "\n",
    "Based on these insights, we selected only the most informative features for our final model."
   ]
  },
  {
   "cell_type": "markdown",
   "metadata": {},
   "source": [
    "# Modelling Approaches\n",
    "\n",
    "## Overview\n",
    "\n",
    "With our features engineered and cleaned, we now test two machine learning approaches to predict danceability:\n",
    "\n",
    "1. **Linear Regression**  \n",
    "   - Serves as a baseline model to understand feature relationships.  \n",
    "   - Tests polynomial features to capture non-linear relationships.  \n",
    "   \n",
    "2. **Random Forest Classification**  \n",
    "   - More robust for structured data with categorical features.  \n",
    "   - Uses hyperparameter tuning (`GridSearchCV`) for optimisation.  \n",
    "   - Incorporates `SMOTE` to handle class imbalance.\n",
    "\n",
    "We evaluate models using accuracy, precision, recall, and analyse feature importance to understand what drives danceability."
   ]
  },
  {
   "cell_type": "markdown",
   "metadata": {},
   "source": [
    "## Linear Regression (Baseline Model)\n",
    "\n",
    "To start, we apply Polynomial Features with a Linear Regression model.  \n",
    "The goal is to establish whether danceability follows a simple polynomial relationship with other features."
   ]
  },
  {
   "cell_type": "code",
   "execution_count": null,
   "metadata": {},
   "outputs": [],
   "source": [
    "# prepare modelling data (feature & target definition, train/test-split)\n",
    "features_cols = ['energy', 'loudness', 'speechiness', 'acousticness', 'instrumentalness', 'valence', 'tempo',\n",
    "                     \n",
    "    # New Engineered Features:\n",
    "    'beat_density',\n",
    "    'energy_tempo_interaction',\n",
    "    'party_factor',\n",
    "    'mood_score']\n",
    "\n",
    "target_col = ['danceability']\n",
    "\n",
    "features = df[features_cols]\n",
    "target = df[target_col]\n",
    "\n",
    "features_train, features_test, target_train, target_test = train_test_split(features, target, test_size=0.1, random_state=42)\n",
    "\n",
    "poly_lr_pipeline = Pipeline([\n",
    "    ('scaler', StandardScaler()),\n",
    "    ('poly_features', PolynomialFeatures(degree=2, interaction_only=True, include_bias=False)),\n",
    "    ('linear_regression', LinearRegression())\n",
    "])\n",
    "\n",
    "poly_lr_pipeline.fit(features_train, target_train)\n",
    "\n",
    "# Predict & evaluate\n",
    "target_pred_poly = poly_lr_pipeline.predict(features_test)\n",
    "\n",
    "rmse_poly = np.sqrt(mean_squared_error(target_test, target_pred_poly))\n",
    "r2_poly = r2_score(target_test, target_pred_poly)\n",
    "\n",
    "print('RMSE: {:.4f}'.format(rmse_poly))\n",
    "print('R² Score: {:.4f}'.format(r2_poly))"
   ]
  },
  {
   "cell_type": "markdown",
   "metadata": {},
   "source": [
    "### Results:\n",
    "- **RMSE**: 12.88%\n",
    "- **R² Score**: 47.65%\n",
    "\n",
    "While the model provides insight into feature relationships, its predictive power is limited, suggesting a need for more complex modelling.\n",
    "\n",
    "## Random Forest Classification\n",
    "\n",
    "A Random Forest model is used for classification, where we define a binary target:\n",
    "- **1 = Danceable** (top 25% of `danceability` scores).\n",
    "- **0 = Not Danceable** (bottom 75%).\n",
    "\n",
    "After GridSearchCV, the hyperparameters seen below were chosen for optimal balance between scoring values, and best overall f1-score. Notably, at a max_depth over 20 and 400 or more n_estimators, the model began to degrade in all scores.\n"
   ]
  },
  {
   "cell_type": "code",
   "execution_count": null,
   "metadata": {},
   "outputs": [],
   "source": [
    "# Classification Model\n",
    "df = create_binary_classification(df, new_col_name='danceable', base_col='danceability', percentile_cutoff=0.693) #picked from top 25%\n",
    "\n",
    "clf_num_cols = [\n",
    "    'energy', 'loudness', 'speechiness', 'acousticness', 'instrumentalness',\n",
    "    'valence', 'tempo', 'beat_density', 'energy_tempo_interaction', 'party_factor'\n",
    "]\n",
    "clf_cat_cols = ['tempo_category', 'meta_genre']\n",
    "\n",
    "clf_features = df[clf_num_cols+clf_cat_cols]\n",
    "clf_target = df['danceable']\n",
    "\n",
    "clf_features_train, clf_features_test, clf_target_train, clf_target_test = train_test_split(clf_features, clf_target, stratify=clf_target,\n",
    "                                                                                            test_size=0.1, random_state=42)\n",
    "\n",
    "preprocessor = ColumnTransformer([\n",
    "    ('num', StandardScaler(), clf_num_cols),\n",
    "    ('cat', OneHotEncoder(drop='first', handle_unknown='ignore'), clf_cat_cols)\n",
    "])\n",
    "\n",
    "#Random Forest Classification\n",
    "rf_clf_pipeline = Pip([\n",
    "    ('preprocessor', preprocessor),\n",
    "    ('classifier', RandomForestClassifier(n_estimators=350, max_depth=20, \n",
    "                                          min_samples_split=5, min_samples_leaf=2, \n",
    "                                          class_weight='balanced', random_state=42))\n",
    "])\n",
    "\n",
    "rf_clf_pipeline.fit(clf_features_train, clf_target_train)\n",
    "\n",
    "rf_clf_target_pred = rf_clf_pipeline.predict(clf_features_test)\n",
    "\n",
    "accuracy = accuracy_score(clf_target_test, rf_clf_target_pred)\n",
    "precision = precision_score(clf_target_test, rf_clf_target_pred)\n",
    "recall = recall_score(clf_target_test, rf_clf_target_pred)\n",
    "conf_matrix = confusion_matrix(clf_target_test, rf_clf_target_pred)\n",
    "\n",
    "print('Accuracy:  {:.4f}'.format(accuracy))\n",
    "print('Precision: {:.4f}'.format(precision))\n",
    "print('Recall: {:.4f}'.format(recall))\n",
    "print('Confusion Matrix:\\n', conf_matrix)"
   ]
  },
  {
   "cell_type": "code",
   "execution_count": null,
   "metadata": {},
   "outputs": [],
   "source": [
    "fig, ax = plt.subplots(figsize=(6, 6))\n",
    "ConfusionMatrixDisplay.from_estimator(rf_clf_pipeline, clf_features_test, clf_target_test, ax=ax, cmap='rocket')\n",
    "plt.title('Confusion Matrix - Random Forest Classifier')\n",
    "plt.savefig('visuals/confusion_matrix.svg', format='svg')"
   ]
  },
  {
   "cell_type": "markdown",
   "metadata": {},
   "source": [
    "### Results:\n",
    "- **Accuracy**: 84.19%\n",
    "- **Precision**: 66.42%\n",
    "- **Recall**: 74.99%\n",
    "\n",
    "The Random Forest model significantly outperformed Linear Regression in classification performance.  \n",
    "Notably, recall improved by ~4.5% after encoding `tempo_category` and `meta_genre`."
   ]
  },
  {
   "cell_type": "code",
   "execution_count": null,
   "metadata": {},
   "outputs": [],
   "source": [
    "feature_importances = rf_clf_pipeline.named_steps['classifier'].feature_importances_\n",
    "\n",
    "feature_names = (\n",
    "    clf_num_cols + \n",
    "    rf_clf_pipeline.named_steps['preprocessor'].named_transformers_['cat'].get_feature_names_out(clf_cat_cols).tolist()\n",
    ")\n",
    "\n",
    "# importance df\n",
    "importance_df = pd.DataFrame({'Feature': feature_names, 'Importance': feature_importances})\n",
    "importance_df = importance_df.sort_values(by='Importance', ascending=False).head(15)\n",
    "\n",
    "plt.figure(figsize=(10, 6))\n",
    "plt.barh(importance_df['Feature'], importance_df['Importance'])\n",
    "plt.xlabel('Feature Importance Score', fontsize=14)\n",
    "plt.ylabel('Features', fontsize=14)\n",
    "plt.yticks(fontsize=12)\n",
    "plt.title('Feature Importance for Danceability Prediction', fontsize=20)\n",
    "plt.gca().invert_yaxis()\n",
    "plt.savefig('visuals/feature_importance.svg', format='svg', bbox_inches='tight')"
   ]
  },
  {
   "cell_type": "markdown",
   "metadata": {},
   "source": [
    "This shows the top 15 most important features for danceability prediction. As 'danceability' in the terms of the dataset seems to be very clearly defined as the type of dancing that is done in a club on the dance floor, the relative importance of 'valence' is unsurprising, although speechiness (the lyrics content of a piece) is unexpected. Broadly speaking, however, it can be seen that danceability is not dependant on one single characteristic, and is clearly the result of a complex calculation of other values."
   ]
  },
  {
   "cell_type": "markdown",
   "metadata": {},
   "source": [
    "# Conclusion & Next Steps\n",
    "\n",
    "## Summary of Findings\n",
    "\n",
    "This project aimed to analyse what makes a song danceable and build a machine learning model to predict danceability. Through exploratory data analysis, feature engineering, and model experimentation, we arrived at the following key insights:\n",
    "\n",
    "### **Danceability Trends**\n",
    "- Energy, valence, and tempo were the strongest predictors of danceability.\n",
    "- Meta-genre had a minor but noticeable impact, with genres like electronic and hip-hop tending to be more danceable.\n",
    "- Mood score, which combined valence, energy, and tempo, was a meaningful composite feature.\n",
    "\n",
    "### **Feature Engineering Outcomes**\n",
    "- **Successful Features**:  \n",
    "  - `beat_density` (tempo-to-time signature ratio)  \n",
    "  - `mood_score` (composite of valence, energy, and tempo)  \n",
    "  - `meta_genre` (broad genre categorisation)  \n",
    "\n",
    "- **Less Effective Features**:  \n",
    "  - `groove_score` (highly correlated with danceability, making it redundant)  \n",
    "  - `energy_tempo_interaction` (did not add significant predictive power)  \n",
    "\n",
    "### **Model Performance**\n",
    "- *Linear Regression* failed to accurately capture danceability, confirming that a purely linear approach was insufficient.\n",
    "- *Random Forest Classification* provided the best results, achieving:\n",
    "  - ~84% accuracy\n",
    "  - Strong recall (~75%), ensuring that truly danceable songs were identified.\n",
    "  - Feature importance analysis confirmed that energy, valence, and genre had the greatest influence.\n",
    "\n",
    "## Next Steps & Potential Improvements\n",
    "\n",
    "If we were to further refine this project, possible extensions include:\n",
    "\n",
    "1. **Trying XGBoost**  \n",
    "   - Random Forest performed well, but an optimised XGBoost model could provide additional improvements.\n",
    "\n",
    "2. **Optimising Feature Selection**  \n",
    "   - Some features (e.g., `tempo_category`) only provided minor gains. Further feature selection could enhance model efficiency.\n",
    "\n",
    "3. **Expanding the Dataset**  \n",
    "   - This analysis used a static snapshot from October 2022. A time-based dataset could allow us to explore if and how danceability trends evolve over time.\n",
    "\n",
    "4. **Recommendation Function**  \n",
    "   - While this is not directly part of modelling, it would be illustrative to have the insights from this analysis/modelling demonstrated in the form of a simple recommendation algorithm that, for example, creates a list of songs that increase or decrease in a selected feature over the course of the list.\n",
    "\n",
    "## Final Thoughts\n",
    "\n",
    "This project successfully demonstrated how audio features impact danceability and how machine learning models can predict danceability with high accuracy. The findings also reinforce the importance of rhythm, energy, and mood in making music danceable.\n",
    "\n",
    "The Random Forest model, combined with carefully engineered features, provided a strong balance between interpretability and predictive power.\n",
    "\n"
   ]
  }
 ],
 "metadata": {
  "kernelspec": {
   "display_name": ".venv",
   "language": "python",
   "name": "python3"
  },
  "language_info": {
   "codemirror_mode": {
    "name": "ipython",
    "version": 3
   },
   "file_extension": ".py",
   "mimetype": "text/x-python",
   "name": "python",
   "nbconvert_exporter": "python",
   "pygments_lexer": "ipython3",
   "version": "3.12.9"
  }
 },
 "nbformat": 4,
 "nbformat_minor": 2
}
