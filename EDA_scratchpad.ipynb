{
 "cells": [
  {
   "cell_type": "code",
   "execution_count": null,
   "metadata": {},
   "outputs": [],
   "source": [
    "import pandas as pd\n",
    "import matplotlib.pyplot as plt\n",
    "import seaborn as sns\n",
    "from spotify_cleaner import clean_data"
   ]
  },
  {
   "cell_type": "code",
   "execution_count": null,
   "metadata": {},
   "outputs": [],
   "source": [
    "\n",
    "# read-in & genre-to-category\n",
    "df = pd.read_csv('data/dataset.csv', index_col=0)\n",
    "#df['track_genre'] = df['track_genre'].astype('category') #114 genres in total --> reasonable for 160k songs\n",
    "\n",
    "# use \"basic\" cleaning function (removes audiobooks and NaN for target variables)\n",
    "df = clean_data(df)\n",
    "\n",
    "# general df info\n",
    "display(df.info())\n",
    "display(df.describe())\n",
    "display(df.loc[:, 'track_genre'].value_counts(sort=True))\n",
    "df.head()"
   ]
  },
  {
   "cell_type": "code",
   "execution_count": null,
   "metadata": {},
   "outputs": [],
   "source": [
    "df.hist(figsize=(12, 8))\n",
    "df[df.isna().any(axis=1)]"
   ]
  },
  {
   "cell_type": "code",
   "execution_count": null,
   "metadata": {},
   "outputs": [],
   "source": [
    "# general correlation\n",
    "plt.figure(figsize=(12, 6))\n",
    "sns.heatmap(df.select_dtypes(include=['number']).corr(), annot=True)\n",
    "plt.title('Feature Correlations')\n",
    "\n",
    "plt.savefig('visuals/EDA number heatmap.png', dpi=150, bbox_inches='tight')\n",
    "plt.show()"
   ]
  },
  {
   "cell_type": "code",
   "execution_count": null,
   "metadata": {},
   "outputs": [],
   "source": [
    "# popularity relationships\n",
    "df.select_dtypes(include=['number']).corr()['popularity'].sort_values(ascending=False)"
   ]
  },
  {
   "cell_type": "code",
   "execution_count": null,
   "metadata": {},
   "outputs": [],
   "source": [
    "# danceability relationships\n",
    "\n",
    "dance_features = ['danceability',  'energy', 'loudness', 'mode', 'speechiness', 'acousticness', 'instrumentalness', \n",
    "                  'valence', 'tempo', 'popularity']\n",
    "\n",
    "dance_plot = sns.pairplot(df.loc[:, dance_features], diag_kind='kde', plot_kws=dict(alpha=0.01))\n",
    "plt.show()\n",
    "dance_plot.savefig('visuals/EDA danceability features.png')"
   ]
  },
  {
   "cell_type": "code",
   "execution_count": null,
   "metadata": {},
   "outputs": [],
   "source": [
    "# basic histograms for popularity/danceability\n",
    "plt.figure(figsize=(12, 6))\n",
    "\n",
    "sns.histplot(df.loc[:,'danceability'], bins=30)\n",
    "plt.title('Distribution of Danceability')\n",
    "plt.show()\n",
    "\n",
    "sns.histplot(df.loc[:,'popularity'], bins=30)\n",
    "plt.title('Distribution of Popularity')\n",
    "plt.show()"
   ]
  },
  {
   "cell_type": "code",
   "execution_count": null,
   "metadata": {},
   "outputs": [],
   "source": [
    "# checking uniques in non-num columns (common-sense run before checking target variation)\n",
    "categorical_cols = df.select_dtypes(exclude=['number']).columns\n",
    "print(df[categorical_cols].nunique())  \n",
    "\n",
    "# duplicated tracks check\n",
    "duplicated_tracks = df[df.duplicated(subset=['track_id'], keep=False)]\n",
    "display(duplicated_tracks.sort_values('track_id').head(15))\n",
    "print('Duplicated track_ids:', duplicated_tracks.shape[0])\n",
    "\n",
    "# checking genre distribution\n",
    "genre_counts = df.loc[:, 'track_id'].value_counts() # counts how many duplicates of each ID\n",
    "\n",
    "plt.figure(figsize=(8,6))\n",
    "plt.hist(genre_counts, bins=(range(1,genre_counts.max()+1)))\n",
    "plt.xlabel('Number of Genres per track_id')\n",
    "plt.ylabel('Count of Tracks')\n",
    "plt.title('Genre Number Distribution')"
   ]
  },
  {
   "cell_type": "code",
   "execution_count": null,
   "metadata": {},
   "outputs": [],
   "source": [
    "# check if multi-genre duplicates skew target variables\n",
    "\n",
    "# genres per track\n",
    "track_genre_counts = df.groupby('track_id')['track_genre'].count().reset_index()\n",
    "track_genre_counts.columns = ['track_id', 'num_genres']\n",
    "\n",
    "# new df with ONLY genre counts (and single unique IDs)\n",
    "df_unique = df.drop_duplicates(subset=['track_id']).merge(track_genre_counts, on='track_id')\n",
    "\n",
    "# does number of genres impact popularity/danceability?\n",
    "fig, ax = plt.subplots(nrows=1, ncols=2, figsize=(15, 5))\n",
    "sns.boxplot(x='num_genres', y='popularity', data=df_unique, ax=ax[0])\n",
    "ax[0].set_xlabel('Number of Genres')\n",
    "ax[0].set_ylabel('Popularity')\n",
    "ax[0].set_title('Popularity vs Number of Genres')\n",
    "\n",
    "sns.boxplot(x='num_genres', y='danceability', data=df_unique, ax=ax[1])\n",
    "ax[1].set_xlabel('Number of Genres')\n",
    "ax[1].set_ylabel('Danceability')\n",
    "ax[1].set_title('Danceability vs Number of Genres')\n",
    "\n",
    "corr_popularity = df_unique['num_genres'].corr(df_unique.loc[:,'popularity'], method='spearman') # linear relationship unlikely --> Spearman\n",
    "corr_danceability = df_unique['num_genres'].corr(df_unique['danceability'], method='spearman')\n",
    "\n",
    "print('Correlation: Popularity vs Genre Count: {:.3f}'.format(corr_popularity))\n",
    "print('Correlation: Danceability vs Genre Count: {:.3f}'.format(corr_danceability))"
   ]
  },
  {
   "cell_type": "code",
   "execution_count": null,
   "metadata": {},
   "outputs": [],
   "source": [
    "#check for genre distribution\n",
    "df.loc[:, 'track_genre'].value_counts(sort=True)\n"
   ]
  },
  {
   "cell_type": "code",
   "execution_count": null,
   "metadata": {},
   "outputs": [],
   "source": [
    "dance_mask = df.loc[:, 'danceability'] == 0\n",
    "df.loc[dance_mask, :]"
   ]
  },
  {
   "cell_type": "code",
   "execution_count": null,
   "metadata": {},
   "outputs": [],
   "source": [
    "genre_mask = df.loc[:, 'track_genre'] == 'sleep'\n",
    "df.loc[genre_mask, :]"
   ]
  },
  {
   "cell_type": "code",
   "execution_count": null,
   "metadata": {},
   "outputs": [],
   "source": [
    "print(', '.join(df['track_genre'].unique()))"
   ]
  }
 ],
 "metadata": {
  "kernelspec": {
   "display_name": ".venv",
   "language": "python",
   "name": "python3"
  },
  "language_info": {
   "codemirror_mode": {
    "name": "ipython",
    "version": 3
   },
   "file_extension": ".py",
   "mimetype": "text/x-python",
   "name": "python",
   "nbconvert_exporter": "python",
   "pygments_lexer": "ipython3",
   "version": "3.12.9"
  }
 },
 "nbformat": 4,
 "nbformat_minor": 2
}
