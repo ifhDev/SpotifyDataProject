{
 "cells": [
  {
   "cell_type": "code",
   "execution_count": null,
   "metadata": {},
   "outputs": [],
   "source": [
    "# Imports\n",
    "import pandas as pd\n",
    "import numpy as np\n",
    "import matplotlib.pyplot as plt\n",
    "import seaborn as sns\n",
    "from sklearn.model_selection import train_test_split, GridSearchCV\n",
    "from sklearn.pipeline import Pipeline\n",
    "from imblearn.pipeline import Pipeline as Pip\n",
    "from imblearn.over_sampling import SMOTE\n",
    "from sklearn.preprocessing import StandardScaler, OneHotEncoder, PolynomialFeatures\n",
    "from sklearn.compose import ColumnTransformer\n",
    "from sklearn.linear_model import LinearRegression\n",
    "from sklearn.ensemble import RandomForestRegressor, RandomForestClassifier\n",
    "from sklearn.metrics import mean_squared_error, r2_score, accuracy_score, precision_score, recall_score, confusion_matrix\n",
    "from spotify_cleaner import clean_data\n",
    "from spotify_feature_engineering import create_binary_classification, GENRE_PRIORITY, assign_meta_genres, remove_meta_duplicates, engineer_features"
   ]
  },
  {
   "cell_type": "code",
   "execution_count": null,
   "metadata": {},
   "outputs": [],
   "source": [
    "df = pd.read_csv('data/dataset.csv', index_col=0)\n",
    "df = clean_data(df)\n",
    "\n",
    "# reclassifying sleep genre as 'negative control group'\n",
    "df.loc[df['track_genre'] == 'sleep', 'danceability'] = 0\n",
    "\n",
    "# assign meta-genre & remove duplicates\n",
    "df = assign_meta_genres(df, GENRE_PRIORITY)\n",
    "df = remove_meta_duplicates(df, GENRE_PRIORITY)\n",
    "\n",
    "# general DF information\n",
    "print(df.info())\n",
    "display(df.describe())\n",
    "df.head()"
   ]
  },
  {
   "cell_type": "code",
   "execution_count": null,
   "metadata": {},
   "outputs": [],
   "source": [
    "# further feature engineering\n",
    "df = engineer_features(df)"
   ]
  },
  {
   "cell_type": "code",
   "execution_count": null,
   "metadata": {},
   "outputs": [],
   "source": [
    "# prepare modelling data (feature & target definition, train/test-split)\n",
    "features_cols = ['energy', 'loudness', 'speechiness', 'acousticness', 'instrumentalness', 'valence', 'tempo',\n",
    "                     \n",
    "    # New Engineered Features:\n",
    "    'beat_density',\n",
    "    'energy_tempo_interaction',\n",
    "    'party_factor',\n",
    "    'mood_score']\n",
    "\n",
    "target_col = ['danceability']\n",
    "\n",
    "features = df[features_cols]\n",
    "target = df[target_col]\n",
    "\n",
    "\n",
    "print(features.isna().sum())  # Check for NaNs\n",
    "print(features[features == np.inf].count())  # Check for Inf values"
   ]
  },
  {
   "cell_type": "code",
   "execution_count": null,
   "metadata": {},
   "outputs": [],
   "source": [
    "features_train, features_test, target_train, target_test = train_test_split(features, target, test_size=0.1, random_state=42)"
   ]
  },
  {
   "cell_type": "code",
   "execution_count": null,
   "metadata": {},
   "outputs": [],
   "source": [
    "# define and fit model\n",
    "poly_lr_pipeline = Pipeline([\n",
    "    ('scaler', StandardScaler()),\n",
    "    ('poly_features', PolynomialFeatures(degree=2, interaction_only=True, include_bias=False)),\n",
    "    ('linear_regression', LinearRegression())\n",
    "])\n",
    "\n",
    "poly_lr_pipeline.fit(features_train, target_train)\n",
    "\n",
    "# predict & evaluate\n",
    "target_pred_poly = poly_lr_pipeline.predict(features_test)\n",
    "\n",
    "rmse_poly = np.sqrt(mean_squared_error(target_test, target_pred_poly))\n",
    "r2_poly = r2_score(target_test, target_pred_poly)\n",
    "\n",
    "print('RMSE: {:.4f}'.format(rmse_poly))\n",
    "print('R² Score: {:.4f}'.format(r2_poly))"
   ]
  },
  {
   "cell_type": "code",
   "execution_count": null,
   "metadata": {},
   "outputs": [],
   "source": [
    "# Visualise actual vs predicted danceability\n",
    "plt.figure(figsize=(6, 6))\n",
    "sns.scatterplot(x=target_test.values.flatten(), y=target_pred_poly.flatten(), alpha=0.25)\n",
    "plt.plot([0, 1], [0, 1], '--', color='red')\n",
    "plt.xlabel('Actual Danceability')\n",
    "plt.ylabel('Predicted Danceability')\n",
    "plt.title('Actual vs. Predicted Danceability')"
   ]
  },
  {
   "cell_type": "code",
   "execution_count": null,
   "metadata": {},
   "outputs": [],
   "source": [
    "# prediction and evaluation (originally 'best estimator')\n",
    "best_rf_model = RandomForestRegressor(random_state=42, max_depth=25, n_estimators=400, min_samples_split=5, min_samples_leaf=2)\n",
    "best_rf_model.fit(features_train, target_train.values.ravel())\n",
    "\n",
    "# predict & evaluate\n",
    "target_pred_rf = best_rf_model.predict(features_test)\n",
    "target_pred_train = best_rf_model.predict(features_train) # overfit check\n",
    "\n",
    "rmse_rf = np.sqrt(mean_squared_error(target_test, target_pred_rf))\n",
    "r2_rf = r2_score(target_test, target_pred_rf)\n",
    "\n",
    "rmse_train = np.sqrt(mean_squared_error(target_train, target_pred_train))\n",
    "r2_train = r2_score(target_train, target_pred_train)\n",
    "\n",
    "# Training vs. Test performance (For Overfitting)\n",
    "print('Training RMSE: {:.4f}'.format(rmse_train))\n",
    "print('Training R² Score: {:.4f}'.format(r2_train))\n",
    "print('Random Forest RMSE: {:.4f}'.format(rmse_rf))\n",
    "print('Random Forest R² Score: {:.4f}'.format(r2_rf))\n",
    "\n",
    "# Overfitting Check: Big Gap?\n",
    "if r2_train - r2_rf > 0.1:\n",
    "    print('The model may be overfitting! Consider tuning hyperparameters or using a different model.')\n",
    "else:\n",
    "    print('No major overfitting detected.')"
   ]
  },
  {
   "cell_type": "code",
   "execution_count": null,
   "metadata": {},
   "outputs": [],
   "source": [
    "# Visualise actual vs predicted danceability\n",
    "plt.figure(figsize=(6, 6))\n",
    "sns.scatterplot(x=target_test.values.flatten(), y=target_pred_rf.flatten(), alpha=0.25)\n",
    "plt.plot([0, 1], [0, 1], '--', color='red')\n",
    "plt.xlabel('Actual Danceability')\n",
    "plt.ylabel('Predicted Danceability')\n",
    "plt.title('Random Forest: Actual vs. Predicted Danceability')"
   ]
  },
  {
   "cell_type": "code",
   "execution_count": null,
   "metadata": {},
   "outputs": [],
   "source": [
    "plt.savefig('visuals/random_forest_regression.svg', format='svg', bbox_inches='tight')"
   ]
  },
  {
   "cell_type": "code",
   "execution_count": null,
   "metadata": {},
   "outputs": [],
   "source": [
    "# feature importance\n",
    "feature_importance = pd.DataFrame({'Feature': features_cols, 'Importance': best_rf_model.feature_importances_})\n",
    "print(feature_importance.sort_values(by='Importance', ascending=False))"
   ]
  },
  {
   "cell_type": "code",
   "execution_count": null,
   "metadata": {},
   "outputs": [],
   "source": [
    "# Classification Model\n",
    "df = create_binary_classification(df, new_col_name='danceable', base_col='danceability', percentile_cutoff=0.693) #picked from top 25%\n",
    "\n",
    "clf_num_cols = [\n",
    "    'energy', 'loudness', 'speechiness', 'acousticness', 'instrumentalness',\n",
    "    'valence', 'tempo', 'beat_density', 'energy_tempo_interaction', 'party_factor'\n",
    "]\n",
    "clf_cat_cols = ['tempo_category', 'meta_genre']\n",
    "\n",
    "clf_features = df[clf_num_cols+clf_cat_cols]\n",
    "clf_target = df['danceable']\n",
    "\n",
    "clf_features_train, clf_features_test, clf_target_train, clf_target_test = train_test_split(clf_features, clf_target, stratify=clf_target,\n",
    "                                                                                            test_size=0.1, random_state=42)"
   ]
  },
  {
   "cell_type": "code",
   "execution_count": null,
   "metadata": {},
   "outputs": [],
   "source": [
    "# column transformer\n",
    "preprocessor = ColumnTransformer([\n",
    "    ('num', StandardScaler(), clf_num_cols),\n",
    "    ('cat', OneHotEncoder(drop='first', handle_unknown='ignore'), clf_cat_cols)\n",
    "])\n",
    "\n",
    "#Random Forest Classification\n",
    "rf_clf_pipeline = Pip([\n",
    "    ('preprocessor', preprocessor),\n",
    "    ('classifier', RandomForestClassifier(n_estimators=350, max_depth=20, \n",
    "                                          min_samples_split=5, min_samples_leaf=2, \n",
    "                                          class_weight='balanced', random_state=42))\n",
    "])\n",
    "\n",
    "rf_clf_pipeline.fit(clf_features_train, clf_target_train)\n",
    "\n",
    "rf_clf_target_pred = rf_clf_pipeline.predict(clf_features_test)\n",
    "\n",
    "accuracy = accuracy_score(clf_target_test, rf_clf_target_pred)\n",
    "precision = precision_score(clf_target_test, rf_clf_target_pred)\n",
    "recall = recall_score(clf_target_test, rf_clf_target_pred)\n",
    "conf_matrix = confusion_matrix(clf_target_test, rf_clf_target_pred)\n",
    "\n",
    "print('Accuracy:  {:.4f}'.format(accuracy))\n",
    "print('Precision: {:.4f}'.format(precision))\n",
    "print('Recall: {:.4f}'.format(recall))\n",
    "print('Confusion Matrix:\\n', conf_matrix)"
   ]
  },
  {
   "cell_type": "code",
   "execution_count": null,
   "metadata": {},
   "outputs": [],
   "source": [
    "feature_importances = rf_clf_pipeline.named_steps['classifier'].feature_importances_\n",
    "\n",
    "feature_names = (\n",
    "    clf_num_cols + \n",
    "    rf_clf_pipeline.named_steps['preprocessor'].named_transformers_['cat'].get_feature_names_out(clf_cat_cols).tolist()\n",
    ")\n",
    "\n",
    "# importance df\n",
    "importance_df = pd.DataFrame({'Feature': feature_names, 'Importance': feature_importances})\n",
    "importance_df = importance_df.sort_values(by='Importance', ascending=False)\n",
    "\n",
    "plt.figure(figsize=(10, 6))\n",
    "plt.barh(importance_df['Feature'], importance_df['Importance'])\n",
    "plt.xlabel('Feature Importance Score')\n",
    "plt.ylabel('Features')\n",
    "plt.title('Random Forest Feature Importance for Danceability Prediction')\n",
    "plt.gca().invert_yaxis()\n",
    "plt.show()\n"
   ]
  }
 ],
 "metadata": {
  "kernelspec": {
   "display_name": ".venv",
   "language": "python",
   "name": "python3"
  },
  "language_info": {
   "codemirror_mode": {
    "name": "ipython",
    "version": 3
   },
   "file_extension": ".py",
   "mimetype": "text/x-python",
   "name": "python",
   "nbconvert_exporter": "python",
   "pygments_lexer": "ipython3",
   "version": "3.12.9"
  }
 },
 "nbformat": 4,
 "nbformat_minor": 2
}
