{
 "cells": [
  {
   "cell_type": "code",
   "execution_count": null,
   "metadata": {},
   "outputs": [],
   "source": [
    "import pandas as pd\n",
    "import matplotlib.pyplot as plt\n",
    "import seaborn as sns"
   ]
  },
  {
   "cell_type": "code",
   "execution_count": null,
   "metadata": {},
   "outputs": [],
   "source": [
    "\n",
    "# general df info\n",
    "df = pd.read_csv('data/dataset.csv', index_col=0)\n",
    "display(df.info())\n",
    "display(df.describe())\n",
    "df.head()"
   ]
  },
  {
   "cell_type": "code",
   "execution_count": null,
   "metadata": {},
   "outputs": [],
   "source": [
    "# general correlation\n",
    "plt.figure(figsize=(12, 6))\n",
    "sns.heatmap(df.select_dtypes(include=['number']).corr(), annot=True)\n",
    "plt.title('Feature Correlations')\n",
    "plt.show()"
   ]
  },
  {
   "cell_type": "code",
   "execution_count": null,
   "metadata": {},
   "outputs": [],
   "source": [
    "# basic histograms for popularity/danceability\n",
    "plt.figure(figsize=(12, 6))\n",
    "\n",
    "sns.histplot(df.loc[:,'danceability'], bins=30)\n",
    "plt.title('Distribution of Danceability')\n",
    "plt.show()\n",
    "\n",
    "sns.histplot(df.loc[:,'popularity'], bins=30)\n",
    "plt.title('Distribution of Popularity')\n",
    "plt.show()"
   ]
  },
  {
   "cell_type": "code",
   "execution_count": null,
   "metadata": {},
   "outputs": [],
   "source": [
    "# danceability relationships\n",
    "\n",
    "dance_features = ['danceability', 'energy', 'loudness', 'mode', 'speechiness', 'acousticness', 'instrumentalness', \n",
    "                  'valence', 'tempo']\n",
    "\n",
    "dance_plot = sns.pairplot(df.loc[:, dance_features], diag_kind='kde', plot_kws=dict(alpha=0.01))\n",
    "plt.show()\n",
    "dance_plot.savefig('visuals/EDA danceability features.png')"
   ]
  }
 ],
 "metadata": {
  "kernelspec": {
   "display_name": ".venv",
   "language": "python",
   "name": "python3"
  },
  "language_info": {
   "codemirror_mode": {
    "name": "ipython",
    "version": 3
   },
   "file_extension": ".py",
   "mimetype": "text/x-python",
   "name": "python",
   "nbconvert_exporter": "python",
   "pygments_lexer": "ipython3",
   "version": "3.12.9"
  }
 },
 "nbformat": 4,
 "nbformat_minor": 2
}
