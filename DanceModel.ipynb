{
 "cells": [
  {
   "cell_type": "code",
   "execution_count": null,
   "metadata": {},
   "outputs": [],
   "source": [
    "# Imports\n",
    "import pandas as pd\n",
    "import numpy as np\n",
    "import matplotlib.pyplot as plt\n",
    "import seaborn as sns\n",
    "from sklearn.model_selection import train_test_split\n",
    "from sklearn.preprocessing import StandardScaler\n",
    "from sklearn.linear_model import LinearRegression\n",
    "from sklearn.preprocessing import PolynomialFeatures\n",
    "from sklearn.metrics import mean_squared_error, r2_score\n",
    "from spotify_cleaner import clean_data, remove_duplicates"
   ]
  },
  {
   "cell_type": "code",
   "execution_count": null,
   "metadata": {},
   "outputs": [],
   "source": [
    "df = pd.read_csv('data/dataset.csv', index_col=0)\n",
    "df = clean_data(df)\n",
    "df = remove_duplicates(df)\n",
    "\n",
    "print(df.info())\n",
    "df.head()"
   ]
  },
  {
   "cell_type": "code",
   "execution_count": null,
   "metadata": {},
   "outputs": [],
   "source": [
    "# prepare modelling data (feature & target definition, train/test-split)\n",
    "features_cols = ['energy', 'loudness', 'speechiness', 'acousticness', 'instrumentalness', 'valence', 'tempo']\n",
    "target_col = ['danceability']\n",
    "\n",
    "features = df[features_cols]\n",
    "target = df[target_col]\n",
    "\n",
    "features_train, features_test, target_train, target_test = train_test_split(features, target, test_size=0.1, random_state=42)"
   ]
  },
  {
   "cell_type": "code",
   "execution_count": null,
   "metadata": {},
   "outputs": [],
   "source": [
    "# scale features\n",
    "scaler = StandardScaler()\n",
    "features_train_scaled = scaler.fit_transform(features_train)\n",
    "features_test_scaled = scaler.transform(features_test)\n",
    "\n",
    "# initial regression model\n",
    "model = LinearRegression()\n",
    "model.fit(features_train_scaled, target_train)"
   ]
  },
  {
   "cell_type": "code",
   "execution_count": null,
   "metadata": {},
   "outputs": [],
   "source": [
    "# Predict & Evaluate\n",
    "target_pred = model.predict(features_test_scaled)\n",
    "\n",
    "rmse = np.sqrt(mean_squared_error(target_test, target_pred))\n",
    "r2 = r2_score(target_test, target_pred)\n",
    "\n",
    "print('RMSE: {:.4f}'.format(rmse))\n",
    "print('R² Score: {:.4f}'.format(r2))"
   ]
  },
  {
   "cell_type": "code",
   "execution_count": null,
   "metadata": {},
   "outputs": [],
   "source": [
    "# Visualise actual vs predicted danceability\n",
    "plt.figure(figsize=(6, 6))\n",
    "sns.scatterplot(x=target_test.values.flatten(), y=target_pred.flatten(), alpha=0.25)\n",
    "plt.plot([0, 1], [0, 1], '--', color='red')\n",
    "plt.xlabel('Actual Danceability')\n",
    "plt.ylabel('Predicted Danceability')\n",
    "plt.title('Actual vs. Predicted Danceability')\n",
    "plt.show()"
   ]
  },
  {
   "cell_type": "code",
   "execution_count": null,
   "metadata": {},
   "outputs": [],
   "source": [
    "# feature importance\n",
    "\n",
    "coefficients = pd.DataFrame({'Feature': features_cols, 'Coefficient': model.coef_.flatten()})\n",
    "print(coefficients.sort_values(by='Coefficient', ascending=False))"
   ]
  },
  {
   "cell_type": "markdown",
   "metadata": {},
   "source": [
    "## Verdict\n",
    "Simple linear regression does not seem to be our friend here. (see: multiple features have non-linear relationships)\n",
    "RMSE: 0.1443, R² Score: 0.3393"
   ]
  },
  {
   "cell_type": "code",
   "execution_count": null,
   "metadata": {},
   "outputs": [],
   "source": [
    "# polynomial features\n",
    "poly = PolynomialFeatures(degree=2, interaction_only=True, include_bias=False)\n",
    "features_train_poly = poly.fit_transform(features_train_scaled)\n",
    "features_test_poly = poly.transform(features_test_scaled)\n",
    "\n",
    "model_poly = LinearRegression()\n",
    "model_poly.fit(features_train_poly, target_train)\n",
    "\n",
    "# predict\n",
    "target_pred_poly = model_poly.predict(features_test_poly)\n"
   ]
  },
  {
   "cell_type": "code",
   "execution_count": null,
   "metadata": {},
   "outputs": [],
   "source": [
    "# polynom evaluate\n",
    "rmse_poly = np.sqrt(mean_squared_error(target_test, target_pred_poly))\n",
    "r2_poly = r2_score(target_test, target_pred_poly)\n",
    "\n",
    "print('RMSE: {:.4f}'.format(rmse_poly))\n",
    "print('R² Score: {:.4f}'.format(r2_poly))"
   ]
  },
  {
   "cell_type": "code",
   "execution_count": null,
   "metadata": {},
   "outputs": [],
   "source": [
    "# Visualise actual vs predicted danceability\n",
    "plt.figure(figsize=(6, 6))\n",
    "sns.scatterplot(x=target_test.values.flatten(), y=target_pred.flatten(), alpha=0.25)\n",
    "plt.plot([0, 1], [0, 1], '--', color='red')\n",
    "plt.xlabel('Actual Danceability')\n",
    "plt.ylabel('Predicted Danceability')\n",
    "plt.title('Actual vs. Predicted Danceability')\n",
    "plt.show()"
   ]
  },
  {
   "cell_type": "markdown",
   "metadata": {},
   "source": [
    "## Verdict\n",
    "Better, if not exactly good (but possibly the best we can do with linear regression)\n",
    "RMSE: 0.1384\n",
    "R² Score: 0.3921"
   ]
  }
 ],
 "metadata": {
  "kernelspec": {
   "display_name": ".venv",
   "language": "python",
   "name": "python3"
  },
  "language_info": {
   "codemirror_mode": {
    "name": "ipython",
    "version": 3
   },
   "file_extension": ".py",
   "mimetype": "text/x-python",
   "name": "python",
   "nbconvert_exporter": "python",
   "pygments_lexer": "ipython3",
   "version": "3.12.9"
  }
 },
 "nbformat": 4,
 "nbformat_minor": 2
}
