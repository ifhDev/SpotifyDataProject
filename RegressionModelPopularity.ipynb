{
 "cells": [
  {
   "cell_type": "code",
   "execution_count": null,
   "metadata": {},
   "outputs": [],
   "source": [
    "# imports\n",
    "import pandas as pd\n",
    "import numpy as np\n",
    "import matplotlib.pyplot as plt\n",
    "import seaborn as sns\n",
    "from sklearn.model_selection import train_test_split\n",
    "from sklearn.preprocessing import PolynomialFeatures, StandardScaler\n",
    "from sklearn.linear_model import LinearRegression\n",
    "from sklearn.ensemble import RandomForestRegressor\n",
    "from sklearn.metrics import mean_squared_error, r2_score\n",
    "from spotify_cleaner import clean_data, remove_duplicates"
   ]
  },
  {
   "cell_type": "markdown",
   "metadata": {},
   "source": []
  },
  {
   "cell_type": "code",
   "execution_count": null,
   "metadata": {},
   "outputs": [],
   "source": [
    "# Load Data\n",
    "df = pd.read_csv('data/dataset.csv', index_col=0)\n",
    "df = clean_data(df)\n",
    "df = remove_duplicates(df)\n",
    "\n",
    "print(df.info())\n",
    "df.head()"
   ]
  },
  {
   "cell_type": "code",
   "execution_count": null,
   "metadata": {},
   "outputs": [],
   "source": [
    "\n",
    "# Apply log transformation to popularity to normalize distribution\n",
    "df['popularity_log'] = np.log1p(df['popularity'])\n",
    "\n",
    "# Undersample zero-popularity tracks\n",
    "pop_nonzero = df[df['popularity'] > 0]\n",
    "pop_zero = df[df['popularity'] == 0].sample(n=min(len(pop_nonzero), len(df[df['popularity'] == 0])), random_state=42)\n",
    "df_balanced = pd.concat([pop_nonzero, pop_zero])\n",
    "\n",
    "# prepare modelling data (feature & target definition, train/test-split)\n",
    "features_cols = ['danceability', 'energy', 'loudness', 'speechiness', 'acousticness', \n",
    "            'instrumentalness', 'liveness', 'valence', 'tempo', 'duration_ms']\n",
    "target_col = 'popularity_log'\n",
    "\n",
    "features = df_balanced[features_cols]\n",
    "target = df_balanced[target_col]\n",
    "\n",
    "features_train, features_test, target_train, target_test = train_test_split(features, target, test_size=0.1, random_state=42)"
   ]
  },
  {
   "cell_type": "code",
   "execution_count": null,
   "metadata": {},
   "outputs": [],
   "source": [
    "\n",
    "# scale features\n",
    "scaler = StandardScaler()\n",
    "features_train_scaled = scaler.fit_transform(features_train)\n",
    "features_test_scaled = scaler.transform(features_test)\n",
    "\n",
    "# Simple Linear Regression\n",
    "model_linear = LinearRegression()\n",
    "model_linear.fit(features_train_scaled, target_train)\n",
    "\n",
    "# predict & evaluate\n",
    "target_pred_linear = model_linear.predict(features_test_scaled)\n",
    "\n",
    "rmse_linear = np.sqrt(mean_squared_error(target_test, target_pred_linear))\n",
    "r2_linear = r2_score(target_test, target_pred_linear)\n",
    "\n",
    "print('Linear Regression RMSE: {:.4f}'.format(rmse_linear))\n",
    "print('Linear Regression R² Score: {:.4f}'.format(r2_linear))"
   ]
  },
  {
   "cell_type": "code",
   "execution_count": null,
   "metadata": {},
   "outputs": [],
   "source": [
    "# Visualise actual vs predicted popularity\n",
    "plt.figure(figsize=(6, 6))\n",
    "sns.scatterplot(x=target_test.values.flatten(), y=target_pred_linear.flatten(), alpha=0.25)\n",
    "plt.xlabel(\"Actual Log Popularity\")\n",
    "plt.ylabel(\"Predicted Log Popularity\")\n",
    "plt.title(\"Actual vs Predicted Log Popularity\")"
   ]
  },
  {
   "cell_type": "code",
   "execution_count": null,
   "metadata": {},
   "outputs": [],
   "source": [
    "# Random Forest Regression\n",
    "rf_model = RandomForestRegressor(n_estimators=250, max_depth=18, min_samples_split=15, min_samples_leaf=6, random_state=42)\n",
    "rf_model.fit(features_train_scaled, target_train)\n",
    "\n",
    "target_pred_rf = rf_model.predict(features_test_scaled)\n",
    "print(\"Random Forest R2:\", r2_score(target_test, target_pred_rf))\n",
    "print(\"Random Forest RMSE:\", np.sqrt(mean_squared_error(target_test, target_pred_rf)))"
   ]
  },
  {
   "cell_type": "code",
   "execution_count": null,
   "metadata": {},
   "outputs": [],
   "source": [
    "# Visualization\n",
    "plt.figure(figsize=(10, 5))\n",
    "sns.scatterplot(x=target_test, y=target_pred_rf, alpha=0.25)\n",
    "plt.xlabel(\"Actual Log Popularity\")\n",
    "plt.ylabel(\"Predicted Log Popularity\")\n",
    "plt.title(\"Random Forest: Actual vs Predicted Log Popularity\")"
   ]
  }
 ],
 "metadata": {
  "kernelspec": {
   "display_name": ".venv",
   "language": "python",
   "name": "python3"
  },
  "language_info": {
   "codemirror_mode": {
    "name": "ipython",
    "version": 3
   },
   "file_extension": ".py",
   "mimetype": "text/x-python",
   "name": "python",
   "nbconvert_exporter": "python",
   "pygments_lexer": "ipython3",
   "version": "3.12.9"
  }
 },
 "nbformat": 4,
 "nbformat_minor": 2
}
